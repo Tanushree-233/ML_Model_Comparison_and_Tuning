{
  "nbformat": 4,
  "nbformat_minor": 0,
  "metadata": {
    "colab": {
      "provenance": [],
      "authorship_tag": "ABX9TyMXICaDtmB33z5P3IRq4Mhe",
      "include_colab_link": true
    },
    "kernelspec": {
      "name": "python3",
      "display_name": "Python 3"
    },
    "language_info": {
      "name": "python"
    }
  },
  "cells": [
    {
      "cell_type": "markdown",
      "metadata": {
        "id": "view-in-github",
        "colab_type": "text"
      },
      "source": [
        "<a href=\"https://colab.research.google.com/github/Tanushree-233/ML_Model_Comparison_and_Tuning/blob/main/ML_Model_Comparison_And_Tuning.ipynb\" target=\"_parent\"><img src=\"https://colab.research.google.com/assets/colab-badge.svg\" alt=\"Open In Colab\"/></a>"
      ]
    },
    {
      "cell_type": "code",
      "execution_count": 1,
      "metadata": {
        "id": "_Jde4QuNNoLM"
      },
      "outputs": [],
      "source": [
        "import numpy as np\n",
        "import pandas as pd\n",
        "from sklearn.datasets import load_breast_cancer\n",
        "from sklearn.model_selection import train_test_split, GridSearchCV, RandomizedSearchCV\n",
        "from sklearn.preprocessing import StandardScaler\n",
        "from sklearn.metrics import accuracy_score, precision_score, recall_score, f1_score\n",
        "from sklearn.linear_model import LogisticRegression\n",
        "from sklearn.tree import DecisionTreeClassifier\n",
        "from sklearn.ensemble import RandomForestClassifier\n",
        "from sklearn.svm import SVC\n",
        "import warnings\n",
        "warnings.filterwarnings('ignore')"
      ]
    },
    {
      "cell_type": "code",
      "source": [
        "# Using a built-in dataset for binary classification\n",
        "data = load_breast_cancer()\n",
        "X = pd.DataFrame(data.data, columns=data.feature_names)\n",
        "y = data.target"
      ],
      "metadata": {
        "id": "OmbKjo2fOBOg"
      },
      "execution_count": 2,
      "outputs": []
    },
    {
      "cell_type": "code",
      "source": [
        "# Split into train and test\n",
        "X_train, X_test, y_train, y_test = train_test_split(\n",
        "    X, y, test_size=0.2, random_state=42\n",
        ")"
      ],
      "metadata": {
        "id": "mU6SFb4sOFhz"
      },
      "execution_count": 3,
      "outputs": []
    },
    {
      "cell_type": "code",
      "source": [
        "scaler = StandardScaler()\n",
        "X_train_scaled = scaler.fit_transform(X_train)\n",
        "X_test_scaled = scaler.transform(X_test)"
      ],
      "metadata": {
        "id": "54Y1pYqyOI__"
      },
      "execution_count": 4,
      "outputs": []
    },
    {
      "cell_type": "code",
      "source": [
        "models = {\n",
        "    \"Logistic Regression\": LogisticRegression(),\n",
        "    \"Decision Tree\": DecisionTreeClassifier(),\n",
        "    \"Random Forest\": RandomForestClassifier(),\n",
        "    \"SVM\": SVC()\n",
        "}"
      ],
      "metadata": {
        "id": "7o1As2pmOMZT"
      },
      "execution_count": 5,
      "outputs": []
    },
    {
      "cell_type": "code",
      "source": [
        "def evaluate_model(name, model, X_test, y_test):\n",
        "    y_pred = model.predict(X_test)\n",
        "    return {\n",
        "        'Model': name,\n",
        "        'Accuracy': accuracy_score(y_test, y_pred),\n",
        "        'Precision': precision_score(y_test, y_pred),\n",
        "        'Recall': recall_score(y_test, y_pred),\n",
        "        'F1 Score': f1_score(y_test, y_pred)\n",
        "    }"
      ],
      "metadata": {
        "id": "BYThQiKfOP3o"
      },
      "execution_count": 6,
      "outputs": []
    },
    {
      "cell_type": "code",
      "source": [
        "results = []\n",
        "for name, model in models.items():\n",
        "    model.fit(X_train_scaled, y_train)\n",
        "    result = evaluate_model(name, model, X_test_scaled, y_test)\n",
        "    results.append(result)\n",
        "\n",
        "results_df = pd.DataFrame(results)\n",
        "print(\"🔹 Initial Model Performance:\\n\")\n",
        "print(results_df)"
      ],
      "metadata": {
        "colab": {
          "base_uri": "https://localhost:8080/"
        },
        "id": "2KlUasgNOTbc",
        "outputId": "fb9e2bb2-aa9b-437a-fec2-0cd470b7802b"
      },
      "execution_count": 7,
      "outputs": [
        {
          "output_type": "stream",
          "name": "stdout",
          "text": [
            "🔹 Initial Model Performance:\n",
            "\n",
            "                 Model  Accuracy  Precision    Recall  F1 Score\n",
            "0  Logistic Regression  0.973684   0.972222  0.985915  0.979021\n",
            "1        Decision Tree  0.938596   0.957143  0.943662  0.950355\n",
            "2        Random Forest  0.964912   0.958904  0.985915  0.972222\n",
            "3                  SVM  0.982456   0.972603  1.000000  0.986111\n"
          ]
        }
      ]
    },
    {
      "cell_type": "code",
      "source": [
        "param_grid_rf = {\n",
        "    'n_estimators': [50, 100, 150],\n",
        "    'max_depth': [4, 6, 8, None]\n",
        "}\n",
        "grid_rf = GridSearchCV(RandomForestClassifier(), param_grid_rf, cv=5, scoring='f1')\n",
        "grid_rf.fit(X_train_scaled, y_train)\n",
        "best_rf = grid_rf.best_estimator_"
      ],
      "metadata": {
        "id": "PFIIf8vqOXfv"
      },
      "execution_count": 8,
      "outputs": []
    },
    {
      "cell_type": "code",
      "source": [
        "param_dist_svc = {\n",
        "    'C': np.logspace(-3, 2, 10),\n",
        "    'gamma': ['scale', 'auto'],\n",
        "    'kernel': ['rbf', 'linear']\n",
        "}\n",
        "rand_svc = RandomizedSearchCV(SVC(), param_distributions=param_dist_svc,\n",
        "                              n_iter=10, cv=5, scoring='f1', random_state=42)\n",
        "rand_svc.fit(X_train_scaled, y_train)\n",
        "best_svc = rand_svc.best_estimator_"
      ],
      "metadata": {
        "id": "iA7gpKLlOhvH"
      },
      "execution_count": 9,
      "outputs": []
    },
    {
      "cell_type": "code",
      "source": [
        "tuned_results = []\n",
        "tuned_results.append(evaluate_model(\"Tuned Random Forest\", best_rf, X_test_scaled, y_test))\n",
        "tuned_results.append(evaluate_model(\"Tuned SVM\", best_svc, X_test_scaled, y_test))\n",
        "\n",
        "tuned_df = pd.DataFrame(tuned_results)\n",
        "print(\"\\n🔹 Tuned Model Performance:\\n\")\n",
        "print(tuned_df)"
      ],
      "metadata": {
        "colab": {
          "base_uri": "https://localhost:8080/"
        },
        "id": "DHYYPKEmOi_f",
        "outputId": "bd08fcbe-a136-485b-9a3f-061e733734fa"
      },
      "execution_count": 10,
      "outputs": [
        {
          "output_type": "stream",
          "name": "stdout",
          "text": [
            "\n",
            "🔹 Tuned Model Performance:\n",
            "\n",
            "                 Model  Accuracy  Precision    Recall  F1 Score\n",
            "0  Tuned Random Forest  0.964912   0.958904  0.985915  0.972222\n",
            "1            Tuned SVM  0.982456   0.972603  1.000000  0.986111\n"
          ]
        }
      ]
    },
    {
      "cell_type": "code",
      "source": [
        "final_df = pd.concat([results_df, tuned_df], ignore_index=True)\n",
        "print(\"\\n✅ Final Model Comparison (Sorted by F1 Score):\\n\")\n",
        "print(final_df.sort_values(by='F1 Score', ascending=False))"
      ],
      "metadata": {
        "colab": {
          "base_uri": "https://localhost:8080/"
        },
        "id": "3gY43InHOmCK",
        "outputId": "1e8971be-6835-40dd-e383-369b5353a0ae"
      },
      "execution_count": 11,
      "outputs": [
        {
          "output_type": "stream",
          "name": "stdout",
          "text": [
            "\n",
            "✅ Final Model Comparison (Sorted by F1 Score):\n",
            "\n",
            "                 Model  Accuracy  Precision    Recall  F1 Score\n",
            "5            Tuned SVM  0.982456   0.972603  1.000000  0.986111\n",
            "3                  SVM  0.982456   0.972603  1.000000  0.986111\n",
            "0  Logistic Regression  0.973684   0.972222  0.985915  0.979021\n",
            "2        Random Forest  0.964912   0.958904  0.985915  0.972222\n",
            "4  Tuned Random Forest  0.964912   0.958904  0.985915  0.972222\n",
            "1        Decision Tree  0.938596   0.957143  0.943662  0.950355\n"
          ]
        }
      ]
    }
  ]
}